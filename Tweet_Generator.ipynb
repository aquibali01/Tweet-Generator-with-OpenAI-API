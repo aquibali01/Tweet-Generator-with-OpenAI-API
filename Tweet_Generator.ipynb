{
  "nbformat": 4,
  "nbformat_minor": 0,
  "metadata": {
    "colab": {
      "provenance": []
    },
    "kernelspec": {
      "name": "python3",
      "display_name": "Python 3"
    },
    "language_info": {
      "name": "python"
    }
  },
  "cells": [
    {
      "cell_type": "markdown",
      "source": [
        "## **Tweet generator function**"
      ],
      "metadata": {
        "id": "MSTqAijKn7hZ"
      }
    },
    {
      "cell_type": "code",
      "source": [
        "#installing library\n",
        "!pip install openai"
      ],
      "metadata": {
        "id": "y7E-XcAMn8Ic"
      },
      "execution_count": null,
      "outputs": []
    },
    {
      "cell_type": "code",
      "source": [
        "#importing openai library\n",
        "import openai\n",
        "\n",
        "#Give your API Key here\n",
        "openai.api_key = \"Your_API_Key\""
      ],
      "metadata": {
        "id": "zlRAEmZloKt4"
      },
      "execution_count": null,
      "outputs": []
    },
    {
      "cell_type": "code",
      "source": [
        "# Tweet generator function\n",
        "\n",
        "def tweet_generator(topic):\n",
        "  #assigning roles of user and systems\n",
        "  messages = [\n",
        "      {\"role\":\"system\", \"content\": \"you are a social media specialist and required to create engaging tweet on the topic mentioned in the text\"},\n",
        "      {\"role\": \"user\", \"content\" : f\"Can you please write me an engaing tweet on the {topic}?\"}\n",
        "  ]\n",
        "\n",
        "  response = openai.ChatCompletion.create(\n",
        "      model = \"gpt-3.5-turbo\",\n",
        "      messages= messages,\n",
        "      #max token 140 because twitter allows only 140 characeters\n",
        "      max_tokens = 140,\n",
        "      n = 1,\n",
        "      stop = None,\n",
        "      #temperature 0.8 to create a unique creative reply\n",
        "      temperature = 0.8\n",
        "      )\n",
        "\n",
        "  response_text = response.choices[0].message.content.strip().lower()\n",
        "\n",
        "  return response_text\n"
      ],
      "metadata": {
        "id": "kJLvmEsgoO60"
      },
      "execution_count": null,
      "outputs": []
    },
    {
      "cell_type": "code",
      "source": [
        "# calling the tweet generator function\n",
        "\n",
        "topic = \"Artificial Intelligence\"\n",
        "#capturing tweet in tweet variable\n",
        "tweet = tweet_generator(text)\n",
        "print(text, \": The tweet generated is\",tweet )"
      ],
      "metadata": {
        "id": "qzez_xV5oSNe"
      },
      "execution_count": null,
      "outputs": []
    }
  ]
}